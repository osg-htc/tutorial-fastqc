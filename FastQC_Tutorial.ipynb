{
 "cells": [
  {
   "cell_type": "markdown",
   "id": "41e65a75-97f1-4e07-af19-5ca78710ebe7",
   "metadata": {},
   "source": [
    "# Bioinformatics Tutorial: Quality Assessment of Data with FastQC"
   ]
  },
  {
   "cell_type": "markdown",
   "id": "969f3be9-db7b-45b7-8273-dea8a251f831",
   "metadata": {},
   "source": [
    "The first step of most biofinformatic analyses is to assess the quality of the data you have recieved. In this example, we are working with real DNA sequencing data from a research project studying E. coli. We will use a common software, [FastQC](https://www.bioinformatics.babraham.ac.uk/projects/fastqc/), to assess the quality of the data.  "
   ]
  },
  {
   "cell_type": "markdown",
   "id": "11a28996-34ca-4a35-9985-c6f6a7682986",
   "metadata": {},
   "source": [
    "Before we begin, Let us make sure we are in our `tutorial-fastqc` directory by printing our working directory:"
   ]
  },
  {
   "cell_type": "code",
   "execution_count": null,
   "id": "67f2e094-3d74-4b7a-a896-f2ac6fcc75fd",
   "metadata": {},
   "outputs": [],
   "source": [
    "cd ~/tutorial-fastqc"
   ]
  },
  {
   "cell_type": "code",
   "execution_count": null,
   "id": "c58d6939-ccd7-4d2f-8a72-9722f903a226",
   "metadata": {},
   "outputs": [],
   "source": [
    "pwd"
   ]
  },
  {
   "cell_type": "markdown",
   "id": "e046c65d-e9b6-4cd2-ae51-74e046670bc7",
   "metadata": {},
   "source": [
    "We should see `/home/<username>/tutorial-fastqc`."
   ]
  },
  {
   "cell_type": "markdown",
   "id": "4726e3e1-1bc5-434e-a2b4-29d7385fdca7",
   "metadata": {},
   "source": [
    "## Workload Components\n",
    "\n",
    "Before thinking about how to run a list of jobs, let's bring the components of our workload (data and software) onto this computer. "
   ]
  },
  {
   "cell_type": "markdown",
   "id": "830ee656-1211-406c-a9cc-335ea4d7fc99",
   "metadata": {},
   "source": [
    "### Data\n",
    "\n",
    "For the data, we will be using a dataset originally prepared by [Data Carpentry](https://datacarpentry.org/). This data includes both the genome of Escherichia coli (E. coli) and paired-end RNA sequencing reads obtained from a study carried out by Blount et al. published in [PNAS](http://www.pnas.org/content/105/23/7899). Additional information about how the data was modified in preparation for this analysis can be found on the [Data Carpentry's workshop website](https://datacarpentry.org/wrangling-genomics/aio.html)."
   ]
  },
  {
   "cell_type": "markdown",
   "id": "261d67db-cbdc-4791-95c5-740736694129",
   "metadata": {},
   "source": [
    "We have a script called `download_data.sh` that will download our bioinformatic data. Let's go ahead and run this script to download our data. "
   ]
  },
  {
   "cell_type": "code",
   "execution_count": null,
   "id": "fb497641-ba23-47d1-91f5-2988c1318454",
   "metadata": {},
   "outputs": [],
   "source": [
    "./data/download_data.sh"
   ]
  },
  {
   "cell_type": "markdown",
   "id": "ef5da90b-88a6-4ef9-97af-3af4726ca80d",
   "metadata": {},
   "source": [
    "Our sequencing data files, all ending in .fastq, can now be found in a folder called `data`. "
   ]
  },
  {
   "cell_type": "markdown",
   "id": "500f3689-cc56-4c4d-a226-4a0f65a0bad7",
   "metadata": {},
   "source": [
    "### Software"
   ]
  },
  {
   "cell_type": "markdown",
   "id": "77f1974b-4ff1-489c-b590-bc5c15c476ee",
   "metadata": {},
   "source": [
    "The first step of this analysis uses a quality control tool called [FastQC](https://www.bioinformatics.babraham.ac.uk/projects/fastqc/).  It's fairly simple to install - just download and unzip. However, because we want to run this analysis in a distributed way, we've gone through the steps of making a software container with FastQC installed. This makes the workload more flexible in where it can run. \n",
    "\n",
    "It's sometimes possible to find an existing container that has what you need (for example, the [State Public Health Bioinformatics Community](https://hub.docker.com/u/staphb)), but for this tutorial, we'll use a container built by OSPool facilitators specifically for this tutorial. "
   ]
  },
  {
   "cell_type": "code",
   "execution_count": null,
   "id": "b9a5bf32-d99a-4b1b-a7a1-5f860d106b75",
   "metadata": {},
   "outputs": [],
   "source": [
    "./software/download_software.sh"
   ]
  },
  {
   "cell_type": "code",
   "execution_count": null,
   "id": "53d23304-daf6-4d46-a541-ad15e38af901",
   "metadata": {},
   "outputs": [],
   "source": [
    "ls software/"
   ]
  },
  {
   "cell_type": "markdown",
   "id": "2818f3f6-4178-4fbf-9bec-ce51ed556456",
   "metadata": {},
   "source": [
    "[!NOTE]\n",
    "If you wanted to replicate the container build, you could do so by using this definition file: "
   ]
  },
  {
   "cell_type": "markdown",
   "id": "c6d0f445-6715-4576-9cbc-e27c24e76874",
   "metadata": {},
   "source": [
    "<div class=\"alert alert-block alert-info\">\n",
    "<b>Note:</b> If you wanted to replicate the container build, you could do so by using\n",
    "    the definition file and steps below: \n",
    "</div>"
   ]
  },
  {
   "cell_type": "code",
   "execution_count": null,
   "id": "ab4633ca-93a5-4f78-b674-d941c6123d95",
   "metadata": {},
   "outputs": [],
   "source": [
    "cat software/fastqc.def"
   ]
  },
  {
   "cell_type": "markdown",
   "id": "d2da55a4-9654-42ca-ba67-d05b834ebe65",
   "metadata": {},
   "source": [
    "And then running this command: \n",
    "\n",
    "```\n",
    "$ apptainer build fastqc.sif software/fastqc.def\n",
    "```"
   ]
  },
  {
   "cell_type": "markdown",
   "id": "d1bf54c5-fc5a-4de7-a54e-a17cc73f5c1c",
   "metadata": {},
   "source": [
    "## Building Our List of Jobs\n",
    "\n",
    "To run the fastqc program on one sample the command is: \n",
    "\n",
    "```\n",
    "fastqc <sample_file>\n",
    "```\n",
    "\n",
    "But we have a list of sample files: "
   ]
  },
  {
   "cell_type": "code",
   "execution_count": null,
   "id": "d44ffe1f-3659-4cd0-8497-900994b1f483",
   "metadata": {},
   "outputs": [],
   "source": [
    "ls data/*.fastq"
   ]
  },
  {
   "cell_type": "markdown",
   "id": "e4db7524-1e79-44f8-acd5-2565eca5f217",
   "metadata": {},
   "source": [
    "So we want to run the `fastqc` command for each of these samples. Our list of jobs will be based on the list of samples -- we want to submit one job per sample. To do this, we need to make two things: \n",
    "\n",
    "- a list of our samples \n",
    "- a \"template\" for the jobs we want to run."
   ]
  },
  {
   "cell_type": "markdown",
   "id": "470e4414-c809-4ec9-932c-48de12e31403",
   "metadata": {},
   "source": [
    "### Create A List"
   ]
  },
  {
   "cell_type": "markdown",
   "id": "c9407a7b-e81c-4e53-b181-e64e0ecfded3",
   "metadata": {},
   "source": [
    "Creating a list of samples is fairly straightforward -- with some shell commands piped together, \n",
    "we can create a file that has all of the sample names: "
   ]
  },
  {
   "cell_type": "code",
   "execution_count": null,
   "id": "28155434-10f8-43d3-8179-3896a5058ae0",
   "metadata": {},
   "outputs": [],
   "source": [
    "ls data/*fastq | cut -d '/' -f 2 | cut -f1 -d \".\" > list_of_samples.txt"
   ]
  },
  {
   "cell_type": "markdown",
   "id": "71a35c3a-a944-4d61-aa03-dfdf1a23a9f6",
   "metadata": {},
   "source": [
    "Briefly, this command lists any files ending with \"fastq\" in our ./data/ directory, cuts anything before (and including) the first \"/\", cuts everything after the \".\" character and saves it to `list_of_samples.txt`."
   ]
  },
  {
   "cell_type": "code",
   "execution_count": null,
   "id": "efc5fa3a-c752-4891-a002-7dc8dddd92ea",
   "metadata": {},
   "outputs": [],
   "source": [
    "cat list_of_samples.txt"
   ]
  },
  {
   "cell_type": "markdown",
   "id": "c73c3efe-307b-4f1d-8777-5570134f1ea7",
   "metadata": {},
   "source": [
    "### Job Template"
   ]
  },
  {
   "cell_type": "markdown",
   "id": "5cbf9809-97d3-414e-ad25-2af00752fb81",
   "metadata": {},
   "source": [
    "The job template will be the HTCondor submit file. To start out, we're going to write a submit file that submits a list of one (samples), for testing. "
   ]
  },
  {
   "cell_type": "code",
   "execution_count": null,
   "id": "981828ad-11a7-4474-9624-1f0477ceeeea",
   "metadata": {},
   "outputs": [],
   "source": [
    "cat fastqc.submit"
   ]
  },
  {
   "cell_type": "markdown",
   "id": "e0c4d313-36bb-4a9f-a3f9-c39e641b87ea",
   "metadata": {},
   "source": [
    "Some highlights from the submit file: \n",
    "- The command `fastqc <sample_file>` has been mapped into the `executable` and `arguments` options of the submit file. \n",
    "- The data (reads) we need is listed in `transfer_input_files`. \n",
    "- The software container image with fastqc installed is listed in `container_image`\n",
    "- Computational resources needed by the job are indicated with `request_*` options. \n",
    "- We're being careful to set up a nice organizational structure from the start, with our logs and error files in a `logs` folder and moving the output files (an html file) to a `results` folder using the `transfer_output_remaps` option. \n",
    "\n",
    "We are now ready to submit our test job! "
   ]
  },
  {
   "cell_type": "code",
   "execution_count": null,
   "id": "d3086105-166b-425e-8b54-798d0c25dac3",
   "metadata": {},
   "outputs": [],
   "source": [
    "condor_submit fastqc.submit"
   ]
  },
  {
   "cell_type": "markdown",
   "id": "cabc97a4-914d-4762-8c0e-3b006c31b2e8",
   "metadata": {},
   "source": [
    "We can check on the status of our job in HTCondor's queue using:"
   ]
  },
  {
   "cell_type": "code",
   "execution_count": null,
   "id": "e5f6568f-b4ce-412b-ac35-278fd3ae5bc5",
   "metadata": {},
   "outputs": [],
   "source": [
    "condor_q"
   ]
  },
  {
   "cell_type": "markdown",
   "id": "d22afce6-08d1-479e-b0b4-5c2f00551462",
   "metadata": {},
   "source": [
    "We told HTCondor to store our FastQC output files in the results directory. Let's take a look at our scientific results:"
   ]
  },
  {
   "cell_type": "code",
   "execution_count": null,
   "id": "e99f9029-2423-4d56-bf80-9f298ecf167e",
   "metadata": {},
   "outputs": [],
   "source": [
    "ls -lh results/"
   ]
  },
  {
   "cell_type": "markdown",
   "id": "d93ef450-bc02-49a4-9a64-fc65dc834f1d",
   "metadata": {},
   "source": [
    "It's always good practice to look at our standard error, standard out, and HTCondor log files to catch unexpected output:"
   ]
  },
  {
   "cell_type": "code",
   "execution_count": null,
   "id": "eec99d85-a465-440f-a1c6-03cb502c6aa1",
   "metadata": {},
   "outputs": [],
   "source": [
    "ls -lh logs/"
   ]
  },
  {
   "cell_type": "markdown",
   "id": "e3b02cd2-3a55-4123-8086-afb2d582f984",
   "metadata": {},
   "source": [
    "### Scaling Up to a List of Jobs"
   ]
  },
  {
   "cell_type": "markdown",
   "id": "20b56c58-5593-4c04-b51d-e2799915b22b",
   "metadata": {},
   "source": [
    "We can now combine our template and our list of samples to generate a list of jobs! See what our new submit file looks like: "
   ]
  },
  {
   "cell_type": "code",
   "execution_count": null,
   "id": "38dc83dd-f515-40a9-be7d-6b9353de0ac0",
   "metadata": {},
   "outputs": [],
   "source": [
    "cat many-fastqc.submit"
   ]
  },
  {
   "cell_type": "markdown",
   "id": "1584dc02-9af9-4b6d-87fb-6cf08c764752",
   "metadata": {},
   "source": [
    "Two changes have turned our previous submit file into something that can submit many jobs at once: \n",
    "* We have incorporated our list, `sample_list.txt` in the `queue` option at the end of the file. There are \n",
    "different ways to \"queue\" items from a list; we've chosen `queue <variable> from <list.txt>` as a good all-purpose option. \n",
    "* Wherever our job template has a value that will be unique for every job (the sample id), we have replaced\n",
    "the value from our first submit file with a variable, `$(sample)`, which was defined in the queue statement. \n",
    "\n",
    "One way to think about this file is as an inverted for-loop for submitting jobs - where the for statement `queue sample from sample_list.txt` is at the bottom of the file and the rest of the file above the for statement is the body of the loop. "
   ]
  },
  {
   "cell_type": "markdown",
   "id": "20a9e9eb-8b31-4d2b-95a7-64df7e17567a",
   "metadata": {},
   "source": [
    "We're now ready to submit our list of jobs! "
   ]
  },
  {
   "cell_type": "code",
   "execution_count": null,
   "id": "31e6392e-928f-4b8c-8aca-e8470a9a99d6",
   "metadata": {},
   "outputs": [],
   "source": [
    "condor_submit many-fastqc.submit"
   ]
  },
  {
   "cell_type": "markdown",
   "id": "3be64d5f-fb8b-4cb0-a232-d96dd150cb99",
   "metadata": {},
   "source": [
    "Notice that using a **single submit file**, we now have **multiple jobs in the queue**."
   ]
  },
  {
   "cell_type": "markdown",
   "id": "cff8d5f4-b7a3-4c1d-bb22-b1f9e26e04e8",
   "metadata": {},
   "source": [
    "We can check on the status of our multiple jobs in HTCondor's queue by using:"
   ]
  },
  {
   "cell_type": "code",
   "execution_count": null,
   "id": "f895390a-b20a-4076-90de-bcd94236c784",
   "metadata": {},
   "outputs": [],
   "source": [
    "condor_q"
   ]
  },
  {
   "cell_type": "markdown",
   "id": "d9ecf23c-1b3e-4539-b6cf-f78d80adc292",
   "metadata": {},
   "source": [
    "When ready, we can check our results in our `results/` directory:"
   ]
  },
  {
   "cell_type": "code",
   "execution_count": null,
   "id": "97431cb0-f605-415a-bd21-e9b45bf56479",
   "metadata": {},
   "outputs": [],
   "source": [
    "ls -lh results/"
   ]
  },
  {
   "cell_type": "markdown",
   "id": "e91b2a3f-3270-4f1b-b82a-287c00cba3bc",
   "metadata": {},
   "source": [
    "Congratulations on finishing the first step of a sequencing analysis pipeline!"
   ]
  }
 ],
 "metadata": {
  "kernelspec": {
   "display_name": "Bash",
   "language": "bash",
   "name": "bash"
  },
  "language_info": {
   "codemirror_mode": "shell",
   "file_extension": ".sh",
   "mimetype": "text/x-sh",
   "name": "bash"
  }
 },
 "nbformat": 4,
 "nbformat_minor": 5
}
